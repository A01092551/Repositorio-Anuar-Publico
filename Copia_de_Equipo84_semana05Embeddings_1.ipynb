{
  "nbformat": 4,
  "nbformat_minor": 0,
  "metadata": {
    "colab": {
      "provenance": [],
      "gpuType": "A100"
    },
    "kernelspec": {
      "name": "python3",
      "display_name": "Python 3"
    },
    "accelerator": "GPU"
  },
  "cells": [
    {
      "cell_type": "markdown",
      "source": [
        "# **Maestría en Inteligencia Artificial Aplicada**\n",
        "\n",
        "## Curso: **Procesamiento de Lenguaje Natural**\n",
        "\n",
        "### Tecnológico de Monterrey\n",
        "\n",
        "### Prof Luis Eduardo Falcón Morales\n",
        "\n",
        "## Actividad Semana 5\n",
        "\n",
        "### **Vectores Embebidos de OpenAI**"
      ],
      "metadata": {
        "id": "lNl8G3vHkPSX"
      }
    },
    {
      "cell_type": "markdown",
      "source": [
        "#### **Nombres y matrículas de los integrantes del equipo:**\n",
        "JORGE ANDRÉS MOYA PACHECO - A00813287\n",
        "\n",
        "CARLOS DANIEL PACHECO PEREZ - A01566821\n",
        "\n",
        "OSCAR NAVA JIMÉNEZ - A01745524\n",
        "\n",
        "ANUAR OLMOS LÓPEZ - A01092551\n",
        "\n"
      ],
      "metadata": {
        "id": "U69mHA6i201G"
      }
    },
    {
      "cell_type": "code",
      "metadata": {
        "id": "wCL2p6MA8NuT",
        "colab": {
          "base_uri": "https://localhost:8080/"
        },
        "outputId": "1908ecf0-d9cf-45f9-90d3-75046dbb3bb0"
      },
      "source": [
        "!pip install Cython --install-option=\"--no-cython-compile\"\n",
        "!pip install fasttext\n",
        "!pip install openai tqdm\n",
        "\n",
        "# Aquí deberás incluir todas las librerías que requieras durante esta actividad:\n",
        "\n",
        "import pandas as pd\n",
        "import numpy as np\n",
        "\n",
        "import re\n",
        "import string\n",
        "import spacy\n",
        "\n",
        "#Libreria para bajar stopwords en varios idiomas\n",
        "import nltk\n",
        "from nltk.corpus import stopwords\n",
        "nltk.download('stopwords')\n",
        "\n",
        "#Libreria para el diccionario\n",
        "from collections import Counter\n",
        "\n",
        "#librerias para Huggingface\n",
        "import torch\n",
        "from google.colab import userdata\n",
        "from huggingface_hub import login\n",
        "from transformers import pipeline\n",
        "\n",
        "#Librerias para  fasttext\n",
        "\n",
        "\n",
        "from google.colab import userdata\n",
        "from openai import OpenAI\n",
        "import openai\n",
        "\n",
        "\n",
        "from tqdm import tqdm\n",
        "\n",
        "#librerias para usar fasttext\n",
        "import fasttext\n",
        "import fasttext.util\n",
        "\n",
        "\n",
        "#Libreria para guardar diccionaro\n",
        "import pickle\n",
        "\n",
        "#librerias para regresión lineal bosque aleatorio\n",
        "from sklearn.linear_model import LogisticRegression\n",
        "from sklearn.ensemble import RandomForestClassifier\n",
        "\n",
        "#libreria para calcular más métricas\n",
        "from sklearn.metrics import classification_report\n",
        "\n",
        "#librería para obtener matriz de confusión\n",
        "from sklearn.metrics import confusion_matrix\n",
        "from sklearn.metrics import confusion_matrix, ConfusionMatrixDisplay\n",
        "\n",
        "#Libreria para graficar\n",
        "import matplotlib.pyplot as plt\n",
        "\n",
        "\n",
        "#Libreria  para trabajar con directorio\n",
        "import os\n",
        "\n",
        "#Libreria para trabajar con google drive\n",
        "from google.colab import drive # libreria para usar drive\n",
        "\n",
        "#Comando para abrir archivos de Colab\n",
        "drive.mount('/content/drive/')"
      ],
      "execution_count": 1,
      "outputs": [
        {
          "output_type": "stream",
          "name": "stdout",
          "text": [
            "\n",
            "Usage:   \n",
            "  pip3 install [options] <requirement specifier> [package-index-options] ...\n",
            "  pip3 install [options] -r <requirements file> [package-index-options] ...\n",
            "  pip3 install [options] [-e] <vcs project url> ...\n",
            "  pip3 install [options] [-e] <local project path> ...\n",
            "  pip3 install [options] <archive url/path> ...\n",
            "\n",
            "no such option: --install-option\n",
            "Requirement already satisfied: fasttext in /usr/local/lib/python3.11/dist-packages (0.9.3)\n",
            "Requirement already satisfied: pybind11>=2.2 in /usr/local/lib/python3.11/dist-packages (from fasttext) (2.13.6)\n",
            "Requirement already satisfied: setuptools>=0.7.0 in /usr/local/lib/python3.11/dist-packages (from fasttext) (75.2.0)\n",
            "Requirement already satisfied: numpy in /usr/local/lib/python3.11/dist-packages (from fasttext) (2.0.2)\n",
            "Requirement already satisfied: openai in /usr/local/lib/python3.11/dist-packages (1.78.1)\n",
            "Requirement already satisfied: tqdm in /usr/local/lib/python3.11/dist-packages (4.67.1)\n",
            "Requirement already satisfied: anyio<5,>=3.5.0 in /usr/local/lib/python3.11/dist-packages (from openai) (4.9.0)\n",
            "Requirement already satisfied: distro<2,>=1.7.0 in /usr/local/lib/python3.11/dist-packages (from openai) (1.9.0)\n",
            "Requirement already satisfied: httpx<1,>=0.23.0 in /usr/local/lib/python3.11/dist-packages (from openai) (0.28.1)\n",
            "Requirement already satisfied: jiter<1,>=0.4.0 in /usr/local/lib/python3.11/dist-packages (from openai) (0.9.0)\n",
            "Requirement already satisfied: pydantic<3,>=1.9.0 in /usr/local/lib/python3.11/dist-packages (from openai) (2.11.4)\n",
            "Requirement already satisfied: sniffio in /usr/local/lib/python3.11/dist-packages (from openai) (1.3.1)\n",
            "Requirement already satisfied: typing-extensions<5,>=4.11 in /usr/local/lib/python3.11/dist-packages (from openai) (4.13.2)\n",
            "Requirement already satisfied: idna>=2.8 in /usr/local/lib/python3.11/dist-packages (from anyio<5,>=3.5.0->openai) (3.10)\n",
            "Requirement already satisfied: certifi in /usr/local/lib/python3.11/dist-packages (from httpx<1,>=0.23.0->openai) (2025.4.26)\n",
            "Requirement already satisfied: httpcore==1.* in /usr/local/lib/python3.11/dist-packages (from httpx<1,>=0.23.0->openai) (1.0.9)\n",
            "Requirement already satisfied: h11>=0.16 in /usr/local/lib/python3.11/dist-packages (from httpcore==1.*->httpx<1,>=0.23.0->openai) (0.16.0)\n",
            "Requirement already satisfied: annotated-types>=0.6.0 in /usr/local/lib/python3.11/dist-packages (from pydantic<3,>=1.9.0->openai) (0.7.0)\n",
            "Requirement already satisfied: pydantic-core==2.33.2 in /usr/local/lib/python3.11/dist-packages (from pydantic<3,>=1.9.0->openai) (2.33.2)\n",
            "Requirement already satisfied: typing-inspection>=0.4.0 in /usr/local/lib/python3.11/dist-packages (from pydantic<3,>=1.9.0->openai) (0.4.0)\n"
          ]
        },
        {
          "output_type": "stream",
          "name": "stderr",
          "text": [
            "[nltk_data] Downloading package stopwords to /root/nltk_data...\n",
            "[nltk_data]   Package stopwords is already up-to-date!\n"
          ]
        },
        {
          "output_type": "stream",
          "name": "stdout",
          "text": [
            "Drive already mounted at /content/drive/; to attempt to forcibly remount, call drive.mount(\"/content/drive/\", force_remount=True).\n"
          ]
        }
      ]
    },
    {
      "cell_type": "markdown",
      "source": [
        "# **Pregunta - 1:**\n",
        "\n"
      ],
      "metadata": {
        "id": "4c34ZOnna3Gu"
      }
    },
    {
      "cell_type": "markdown",
      "source": [
        "Descarga los 3 archivos de Canvas y genera un nuevo DataFrame de Pandas con ellos.\n",
        "\n",
        "**Llama simplemente \"df\" a dicho DataFrame.**\n",
        "\n",
        "Los archivos los encuentras en Canvas: amazon5.txt, imdb5.txt, yelp5.txt.\n",
        "\n"
      ],
      "metadata": {
        "id": "yeNllxRdmeWg"
      }
    },
    {
      "cell_type": "code",
      "source": [
        "\n",
        "# ******* Inlcuye a continuación todas las líneas de código y celdas que requieras: ***********\n",
        "\n",
        "\n",
        "dfa = pd.read_csv('/content/drive/MyDrive/Colab Notebooks/MNA/NLP/Actividad_3/amazon5.txt', sep='\\t', names=['review','label'], header=None, encoding='utf-8')\n",
        "\n",
        "dfy = pd.read_csv('/content/drive/MyDrive/Colab Notebooks/MNA/NLP/Actividad_3/yelp5.txt', sep='\\t', names=['review','label'], header=None, encoding='utf-8')\n",
        "\n",
        "#dfi = pd.read_csv('/content/drive/MyDrive/Colab Notebooks/MNA/NLP/Actividad_3/imdb5.txt', delimiter='\\t', names=['review','label'], header=None, encoding='utf-8')\n",
        "dfi = pd.read_csv('/content/drive/MyDrive/Colab Notebooks/MNA/NLP/Actividad_3/imdb5.txt',\n",
        "                  sep=r'\\s{3,}',\n",
        "                  names=['review', 'label'],\n",
        "                  header=None,\n",
        "                  engine='python',\n",
        "                  encoding='utf-8')\n",
        "\n",
        "\n",
        "df = pd.concat([dfa, dfi, dfy], ignore_index=True)\n",
        "\n",
        "\n",
        "# *********** Aquí termina la sección de agregar código *************\n"
      ],
      "metadata": {
        "id": "T_lyEFRkxzC6"
      },
      "execution_count": 2,
      "outputs": []
    },
    {
      "cell_type": "code",
      "source": [
        "# Verifiquemos la información del DataFrame:\n",
        "df.info()"
      ],
      "metadata": {
        "id": "3-w1xMLYnm9b",
        "colab": {
          "base_uri": "https://localhost:8080/"
        },
        "outputId": "bb2d48b9-5620-4ce0-fdba-b6adf5ab5010"
      },
      "execution_count": 3,
      "outputs": [
        {
          "output_type": "stream",
          "name": "stdout",
          "text": [
            "<class 'pandas.core.frame.DataFrame'>\n",
            "RangeIndex: 3000 entries, 0 to 2999\n",
            "Data columns (total 2 columns):\n",
            " #   Column  Non-Null Count  Dtype \n",
            "---  ------  --------------  ----- \n",
            " 0   review  3000 non-null   object\n",
            " 1   label   3000 non-null   int64 \n",
            "dtypes: int64(1), object(1)\n",
            "memory usage: 47.0+ KB\n"
          ]
        }
      ]
    },
    {
      "cell_type": "code",
      "source": [
        "# Y veamos sus primeros registros:\n",
        "\n",
        "df.head()"
      ],
      "metadata": {
        "id": "NfVUcYe1nubT",
        "colab": {
          "base_uri": "https://localhost:8080/",
          "height": 206
        },
        "outputId": "29eff50f-02b0-40b6-81ac-028b3bf40757"
      },
      "execution_count": 4,
      "outputs": [
        {
          "output_type": "execute_result",
          "data": {
            "text/plain": [
              "                                              review  label\n",
              "0  So there is no way for me to plug it in here i...      0\n",
              "1                        Good case, Excellent value.      1\n",
              "2                             Great for the jawbone.      1\n",
              "3  Tied to charger for conversations lasting more...      0\n",
              "4                                  The mic is great.      1"
            ],
            "text/html": [
              "\n",
              "  <div id=\"df-c13577b1-2b88-4e2a-8ac1-ab0642623b09\" class=\"colab-df-container\">\n",
              "    <div>\n",
              "<style scoped>\n",
              "    .dataframe tbody tr th:only-of-type {\n",
              "        vertical-align: middle;\n",
              "    }\n",
              "\n",
              "    .dataframe tbody tr th {\n",
              "        vertical-align: top;\n",
              "    }\n",
              "\n",
              "    .dataframe thead th {\n",
              "        text-align: right;\n",
              "    }\n",
              "</style>\n",
              "<table border=\"1\" class=\"dataframe\">\n",
              "  <thead>\n",
              "    <tr style=\"text-align: right;\">\n",
              "      <th></th>\n",
              "      <th>review</th>\n",
              "      <th>label</th>\n",
              "    </tr>\n",
              "  </thead>\n",
              "  <tbody>\n",
              "    <tr>\n",
              "      <th>0</th>\n",
              "      <td>So there is no way for me to plug it in here i...</td>\n",
              "      <td>0</td>\n",
              "    </tr>\n",
              "    <tr>\n",
              "      <th>1</th>\n",
              "      <td>Good case, Excellent value.</td>\n",
              "      <td>1</td>\n",
              "    </tr>\n",
              "    <tr>\n",
              "      <th>2</th>\n",
              "      <td>Great for the jawbone.</td>\n",
              "      <td>1</td>\n",
              "    </tr>\n",
              "    <tr>\n",
              "      <th>3</th>\n",
              "      <td>Tied to charger for conversations lasting more...</td>\n",
              "      <td>0</td>\n",
              "    </tr>\n",
              "    <tr>\n",
              "      <th>4</th>\n",
              "      <td>The mic is great.</td>\n",
              "      <td>1</td>\n",
              "    </tr>\n",
              "  </tbody>\n",
              "</table>\n",
              "</div>\n",
              "    <div class=\"colab-df-buttons\">\n",
              "\n",
              "  <div class=\"colab-df-container\">\n",
              "    <button class=\"colab-df-convert\" onclick=\"convertToInteractive('df-c13577b1-2b88-4e2a-8ac1-ab0642623b09')\"\n",
              "            title=\"Convert this dataframe to an interactive table.\"\n",
              "            style=\"display:none;\">\n",
              "\n",
              "  <svg xmlns=\"http://www.w3.org/2000/svg\" height=\"24px\" viewBox=\"0 -960 960 960\">\n",
              "    <path d=\"M120-120v-720h720v720H120Zm60-500h600v-160H180v160Zm220 220h160v-160H400v160Zm0 220h160v-160H400v160ZM180-400h160v-160H180v160Zm440 0h160v-160H620v160ZM180-180h160v-160H180v160Zm440 0h160v-160H620v160Z\"/>\n",
              "  </svg>\n",
              "    </button>\n",
              "\n",
              "  <style>\n",
              "    .colab-df-container {\n",
              "      display:flex;\n",
              "      gap: 12px;\n",
              "    }\n",
              "\n",
              "    .colab-df-convert {\n",
              "      background-color: #E8F0FE;\n",
              "      border: none;\n",
              "      border-radius: 50%;\n",
              "      cursor: pointer;\n",
              "      display: none;\n",
              "      fill: #1967D2;\n",
              "      height: 32px;\n",
              "      padding: 0 0 0 0;\n",
              "      width: 32px;\n",
              "    }\n",
              "\n",
              "    .colab-df-convert:hover {\n",
              "      background-color: #E2EBFA;\n",
              "      box-shadow: 0px 1px 2px rgba(60, 64, 67, 0.3), 0px 1px 3px 1px rgba(60, 64, 67, 0.15);\n",
              "      fill: #174EA6;\n",
              "    }\n",
              "\n",
              "    .colab-df-buttons div {\n",
              "      margin-bottom: 4px;\n",
              "    }\n",
              "\n",
              "    [theme=dark] .colab-df-convert {\n",
              "      background-color: #3B4455;\n",
              "      fill: #D2E3FC;\n",
              "    }\n",
              "\n",
              "    [theme=dark] .colab-df-convert:hover {\n",
              "      background-color: #434B5C;\n",
              "      box-shadow: 0px 1px 3px 1px rgba(0, 0, 0, 0.15);\n",
              "      filter: drop-shadow(0px 1px 2px rgba(0, 0, 0, 0.3));\n",
              "      fill: #FFFFFF;\n",
              "    }\n",
              "  </style>\n",
              "\n",
              "    <script>\n",
              "      const buttonEl =\n",
              "        document.querySelector('#df-c13577b1-2b88-4e2a-8ac1-ab0642623b09 button.colab-df-convert');\n",
              "      buttonEl.style.display =\n",
              "        google.colab.kernel.accessAllowed ? 'block' : 'none';\n",
              "\n",
              "      async function convertToInteractive(key) {\n",
              "        const element = document.querySelector('#df-c13577b1-2b88-4e2a-8ac1-ab0642623b09');\n",
              "        const dataTable =\n",
              "          await google.colab.kernel.invokeFunction('convertToInteractive',\n",
              "                                                    [key], {});\n",
              "        if (!dataTable) return;\n",
              "\n",
              "        const docLinkHtml = 'Like what you see? Visit the ' +\n",
              "          '<a target=\"_blank\" href=https://colab.research.google.com/notebooks/data_table.ipynb>data table notebook</a>'\n",
              "          + ' to learn more about interactive tables.';\n",
              "        element.innerHTML = '';\n",
              "        dataTable['output_type'] = 'display_data';\n",
              "        await google.colab.output.renderOutput(dataTable, element);\n",
              "        const docLink = document.createElement('div');\n",
              "        docLink.innerHTML = docLinkHtml;\n",
              "        element.appendChild(docLink);\n",
              "      }\n",
              "    </script>\n",
              "  </div>\n",
              "\n",
              "\n",
              "    <div id=\"df-ce004c1e-6960-43c4-b3cd-a7ecbc3c9910\">\n",
              "      <button class=\"colab-df-quickchart\" onclick=\"quickchart('df-ce004c1e-6960-43c4-b3cd-a7ecbc3c9910')\"\n",
              "                title=\"Suggest charts\"\n",
              "                style=\"display:none;\">\n",
              "\n",
              "<svg xmlns=\"http://www.w3.org/2000/svg\" height=\"24px\"viewBox=\"0 0 24 24\"\n",
              "     width=\"24px\">\n",
              "    <g>\n",
              "        <path d=\"M19 3H5c-1.1 0-2 .9-2 2v14c0 1.1.9 2 2 2h14c1.1 0 2-.9 2-2V5c0-1.1-.9-2-2-2zM9 17H7v-7h2v7zm4 0h-2V7h2v10zm4 0h-2v-4h2v4z\"/>\n",
              "    </g>\n",
              "</svg>\n",
              "      </button>\n",
              "\n",
              "<style>\n",
              "  .colab-df-quickchart {\n",
              "      --bg-color: #E8F0FE;\n",
              "      --fill-color: #1967D2;\n",
              "      --hover-bg-color: #E2EBFA;\n",
              "      --hover-fill-color: #174EA6;\n",
              "      --disabled-fill-color: #AAA;\n",
              "      --disabled-bg-color: #DDD;\n",
              "  }\n",
              "\n",
              "  [theme=dark] .colab-df-quickchart {\n",
              "      --bg-color: #3B4455;\n",
              "      --fill-color: #D2E3FC;\n",
              "      --hover-bg-color: #434B5C;\n",
              "      --hover-fill-color: #FFFFFF;\n",
              "      --disabled-bg-color: #3B4455;\n",
              "      --disabled-fill-color: #666;\n",
              "  }\n",
              "\n",
              "  .colab-df-quickchart {\n",
              "    background-color: var(--bg-color);\n",
              "    border: none;\n",
              "    border-radius: 50%;\n",
              "    cursor: pointer;\n",
              "    display: none;\n",
              "    fill: var(--fill-color);\n",
              "    height: 32px;\n",
              "    padding: 0;\n",
              "    width: 32px;\n",
              "  }\n",
              "\n",
              "  .colab-df-quickchart:hover {\n",
              "    background-color: var(--hover-bg-color);\n",
              "    box-shadow: 0 1px 2px rgba(60, 64, 67, 0.3), 0 1px 3px 1px rgba(60, 64, 67, 0.15);\n",
              "    fill: var(--button-hover-fill-color);\n",
              "  }\n",
              "\n",
              "  .colab-df-quickchart-complete:disabled,\n",
              "  .colab-df-quickchart-complete:disabled:hover {\n",
              "    background-color: var(--disabled-bg-color);\n",
              "    fill: var(--disabled-fill-color);\n",
              "    box-shadow: none;\n",
              "  }\n",
              "\n",
              "  .colab-df-spinner {\n",
              "    border: 2px solid var(--fill-color);\n",
              "    border-color: transparent;\n",
              "    border-bottom-color: var(--fill-color);\n",
              "    animation:\n",
              "      spin 1s steps(1) infinite;\n",
              "  }\n",
              "\n",
              "  @keyframes spin {\n",
              "    0% {\n",
              "      border-color: transparent;\n",
              "      border-bottom-color: var(--fill-color);\n",
              "      border-left-color: var(--fill-color);\n",
              "    }\n",
              "    20% {\n",
              "      border-color: transparent;\n",
              "      border-left-color: var(--fill-color);\n",
              "      border-top-color: var(--fill-color);\n",
              "    }\n",
              "    30% {\n",
              "      border-color: transparent;\n",
              "      border-left-color: var(--fill-color);\n",
              "      border-top-color: var(--fill-color);\n",
              "      border-right-color: var(--fill-color);\n",
              "    }\n",
              "    40% {\n",
              "      border-color: transparent;\n",
              "      border-right-color: var(--fill-color);\n",
              "      border-top-color: var(--fill-color);\n",
              "    }\n",
              "    60% {\n",
              "      border-color: transparent;\n",
              "      border-right-color: var(--fill-color);\n",
              "    }\n",
              "    80% {\n",
              "      border-color: transparent;\n",
              "      border-right-color: var(--fill-color);\n",
              "      border-bottom-color: var(--fill-color);\n",
              "    }\n",
              "    90% {\n",
              "      border-color: transparent;\n",
              "      border-bottom-color: var(--fill-color);\n",
              "    }\n",
              "  }\n",
              "</style>\n",
              "\n",
              "      <script>\n",
              "        async function quickchart(key) {\n",
              "          const quickchartButtonEl =\n",
              "            document.querySelector('#' + key + ' button');\n",
              "          quickchartButtonEl.disabled = true;  // To prevent multiple clicks.\n",
              "          quickchartButtonEl.classList.add('colab-df-spinner');\n",
              "          try {\n",
              "            const charts = await google.colab.kernel.invokeFunction(\n",
              "                'suggestCharts', [key], {});\n",
              "          } catch (error) {\n",
              "            console.error('Error during call to suggestCharts:', error);\n",
              "          }\n",
              "          quickchartButtonEl.classList.remove('colab-df-spinner');\n",
              "          quickchartButtonEl.classList.add('colab-df-quickchart-complete');\n",
              "        }\n",
              "        (() => {\n",
              "          let quickchartButtonEl =\n",
              "            document.querySelector('#df-ce004c1e-6960-43c4-b3cd-a7ecbc3c9910 button');\n",
              "          quickchartButtonEl.style.display =\n",
              "            google.colab.kernel.accessAllowed ? 'block' : 'none';\n",
              "        })();\n",
              "      </script>\n",
              "    </div>\n",
              "\n",
              "    </div>\n",
              "  </div>\n"
            ],
            "application/vnd.google.colaboratory.intrinsic+json": {
              "type": "dataframe",
              "variable_name": "df",
              "summary": "{\n  \"name\": \"df\",\n  \"rows\": 3000,\n  \"fields\": [\n    {\n      \"column\": \"review\",\n      \"properties\": {\n        \"dtype\": \"string\",\n        \"num_unique_values\": 2982,\n        \"samples\": [\n          \"We've tried to like this place but after 10+ times I think we're done with them.\",\n          \"The best example of how dumb the writing is when it's established that you can turn the zombie-students back into humans by removing a necklace containing a piece of the meteorite.\",\n          \"It was that loud.Glad to say that the Plantronics 510 maintains a flawless connection to my cell and with no static during normal use.\"\n        ],\n        \"semantic_type\": \"\",\n        \"description\": \"\"\n      }\n    },\n    {\n      \"column\": \"label\",\n      \"properties\": {\n        \"dtype\": \"number\",\n        \"std\": 0,\n        \"min\": 0,\n        \"max\": 1,\n        \"num_unique_values\": 2,\n        \"samples\": [\n          1,\n          0\n        ],\n        \"semantic_type\": \"\",\n        \"description\": \"\"\n      }\n    }\n  ]\n}"
            }
          },
          "metadata": {},
          "execution_count": 4
        }
      ]
    },
    {
      "cell_type": "markdown",
      "source": [
        "# **Pregunta - 2:**"
      ],
      "metadata": {
        "id": "MfZZ0stLmWJN"
      }
    },
    {
      "cell_type": "markdown",
      "source": [
        "Realiza el proceso de limpieza. Aplica el preprocesamiento que consideres adecuado.\n",
        "\n",
        "\n",
        "\n",
        "\n",
        "\n",
        "\n",
        "\n",
        "\n",
        "\n"
      ],
      "metadata": {
        "id": "7F6JF5BommZ6"
      }
    },
    {
      "cell_type": "code",
      "source": [
        "\n",
        "# ********** Inlcuye a continuación todas las líneas de código y celdas que requieras: ***********\n",
        "\n",
        "\n",
        "\n",
        "# Descargar recursos si no lo has hecho\n",
        "nltk.download('stopwords')\n",
        "\n",
        "# Cargar modelo de spaCy en inglés\n",
        "nlp = spacy.load(\"en_core_web_sm\")\n",
        "\n",
        "# Stopwords en inglés\n",
        "stop_words = set(stopwords.words(\"english\"))\n",
        "\n",
        "def clean_tok(text):\n",
        "    text = text.lower()\n",
        "    text = re.sub(r'[^a-z\\s]', ' ', text)  # eliminar puntuación y números\n",
        "    text = re.sub(r'\\s+', ' ', text).strip()  # eliminar espacios múltiples\n",
        "\n",
        "    # Procesamiento con spaCy\n",
        "    doc = nlp(text)\n",
        "\n",
        "    # Lematización y filtrado\n",
        "    tokens = [token.lemma_ for token in doc if token.lemma_ not in stop_words and len(token.lemma_) > 2]\n",
        "\n",
        "    return tokens\n",
        "\n",
        "X=df['review']\n",
        "\n",
        "# Aplicamos limpieza\n",
        "Xclean = X.apply(clean_tok)\n",
        "\n",
        "# Etiquetas\n",
        "Y = df['label']\n",
        "\n",
        "# *********** Aquí termina la sección de agregar código *************\n"
      ],
      "metadata": {
        "id": "TsnvMp-7oYCM",
        "colab": {
          "base_uri": "https://localhost:8080/"
        },
        "outputId": "b388f065-348d-406a-fff7-ffca427160a8"
      },
      "execution_count": 21,
      "outputs": [
        {
          "output_type": "stream",
          "name": "stderr",
          "text": [
            "[nltk_data] Downloading package stopwords to /root/nltk_data...\n",
            "[nltk_data]   Package stopwords is already up-to-date!\n"
          ]
        }
      ]
    },
    {
      "cell_type": "code",
      "source": [
        "# Despleguemos los primeros comentarios después de tu proceso de limpieza:\n",
        "\n",
        "for x in Xclean[0:5]:\n",
        "  print(x)\n"
      ],
      "metadata": {
        "id": "7jlQuoI2o33T",
        "colab": {
          "base_uri": "https://localhost:8080/"
        },
        "outputId": "d3c130ae-2d19-40ff-8bb4-bb139be986ab"
      },
      "execution_count": 6,
      "outputs": [
        {
          "output_type": "stream",
          "name": "stdout",
          "text": [
            "['way', 'plug', 'unless', 'converter']\n",
            "['good', 'case', 'excellent', 'value']\n",
            "['great', 'jawbone']\n",
            "['tie', 'charger', 'conversation', 'last', 'minute', 'major', 'problem']\n",
            "['mic', 'great']\n"
          ]
        }
      ]
    },
    {
      "cell_type": "markdown",
      "source": [
        "# **Pregunta - 3:**\n"
      ],
      "metadata": {
        "id": "ygchEdcKqIzU"
      }
    },
    {
      "cell_type": "markdown",
      "source": [
        "\n",
        "Realicemos una partición aleatoria con los mismos porcentajes de la práctica pasada para poder comparar dichos resultados con los de\n",
        "esta actividad, a saber, 70%, 15% y 15%, para entrenamiento, validación y prueba, respectivamente."
      ],
      "metadata": {
        "id": "7wEIOkkl9Dot"
      }
    },
    {
      "cell_type": "code",
      "source": [
        "\n",
        "# ************* Inicia la sección de agregar código:*****************************\n",
        "\n",
        "from sklearn.model_selection import train_test_split\n",
        "\n",
        "x_train, x_val_and_test, y_train, y_val_and_test = train_test_split(Xclean, Y, train_size=.70, shuffle=True, random_state=1)\n",
        "x_val, x_test, y_val, y_test = train_test_split(x_val_and_test, y_val_and_test, test_size=.50, shuffle=True, random_state=17)\n",
        "\n",
        "\n",
        "\n",
        "# *********** Termina la sección de agregar código *************\n",
        "\n",
        "\n",
        "# verificemos las dimensiones obtenidas:\n",
        "print('X,y Train:', len(x_train), len(y_train))\n",
        "print('X,y Val:', len(x_val), len(y_val))\n",
        "print('X,y Test', len(x_test), len(y_test))"
      ],
      "metadata": {
        "id": "b0SAcYdq9X0w",
        "colab": {
          "base_uri": "https://localhost:8080/"
        },
        "outputId": "471de719-099b-4e85-e4cd-62d0d8414853"
      },
      "execution_count": 7,
      "outputs": [
        {
          "output_type": "stream",
          "name": "stdout",
          "text": [
            "X,y Train: 2100 2100\n",
            "X,y Val: 450 450\n",
            "X,y Test 450 450\n"
          ]
        }
      ]
    },
    {
      "cell_type": "markdown",
      "source": [
        "# **Pregunta - 4:**"
      ],
      "metadata": {
        "id": "1qjKoEqiqBN1"
      }
    },
    {
      "cell_type": "markdown",
      "source": [
        "\n",
        "\n",
        "Construye tu vocabulario a continuación\n"
      ],
      "metadata": {
        "id": "jENsKiN99r3F"
      }
    },
    {
      "cell_type": "markdown",
      "source": [
        "**Justificación**\n",
        "\n",
        "Al construir un diccionario para modelos de procesamiento de lenguaje natural se recomienda excluir palabras con baja frecuencia y pocos caracteres debido a que lass palabras de baja frecuencia suelen incluir:\n",
        "\n",
        "* Errores tipográficos.\n",
        "* Palabras mal formadas o incompletas.\n",
        "* Términos irrelevantes o específicos de un único contexto (outliers).\n",
        "\n",
        "Además tener un vocabulario muy grande aumenta la complejidad computacional, eleva el uso de memoria y puede provocar dispersión en representaciones como bag-of-words o one-hot encoding.\n",
        "\n",
        "Es por lo anterior que se decidió eliminar las palabras con un baja frecuencia y pocos caracteres."
      ],
      "metadata": {
        "id": "QqvGfsfSHARA"
      }
    },
    {
      "cell_type": "code",
      "source": [
        "# a.\tUsa el conjunto de entrenamiento para generar tu vocabulario\n",
        "#     con un tamaño que consideres adecuado:\n",
        "\n",
        "\n",
        "# ******* Inlcuye a continuación todas las líneas de código y celdas que requieras: ***********\n",
        "\n",
        "midiccionario = Counter()\n",
        "\n",
        "for k in range(len(x_train)):\n",
        "    midiccionario.update(x_train.iloc[k])  # ← aquí está la corrección\n",
        "\n",
        "min_freq = 2\n",
        "midicc = {}\n",
        "\n",
        "for word in midiccionario.items():\n",
        "    if word[1] >= min_freq:\n",
        "        midicc.update({word[0]: word[1]})\n",
        "\n",
        "print('\\n(word,frequency):')\n",
        "\n",
        "diccionario_ordenado = sorted(midicc.items(), key=lambda x: x[1], reverse=True)\n",
        "\n",
        "n = 10  # Por ejemplo, los 10 más frecuentes\n",
        "for token, frecuencia in diccionario_ordenado[:n]:\n",
        "    print(f\"{token}: {frecuencia}\")\n",
        "\n",
        "\n",
        "# *********** Aquí termina la sección de agregar código *************"
      ],
      "metadata": {
        "id": "TzJntmLPqPqC",
        "colab": {
          "base_uri": "https://localhost:8080/"
        },
        "outputId": "e5afde75-d04a-430a-b615-b0ae7eb61926"
      },
      "execution_count": 9,
      "outputs": [
        {
          "output_type": "stream",
          "name": "stdout",
          "text": [
            "\n",
            "(word,frequency):\n",
            "good: 213\n",
            "great: 141\n",
            "movie: 140\n",
            "phone: 134\n",
            "film: 130\n",
            "work: 112\n",
            "bad: 111\n",
            "well: 102\n",
            "like: 101\n",
            "time: 101\n"
          ]
        }
      ]
    },
    {
      "cell_type": "code",
      "source": [
        "# b.\tIndica el tamaño del vocabulario generado.\n",
        "\n",
        "print('Longitud del vocabulario generado:')\n",
        "\n",
        "\n",
        "# ******* Inicia la sección de agregar código: ***********\n",
        "\n",
        "print(len(midicc))\n",
        "\n",
        "\n",
        "# *********** Aquí termina la sección de agregar código *************"
      ],
      "metadata": {
        "id": "yTDZ0Rr86CUP",
        "colab": {
          "base_uri": "https://localhost:8080/"
        },
        "outputId": "0fb6a4fd-ab6b-423b-f24b-464e98520cb6"
      },
      "execution_count": 10,
      "outputs": [
        {
          "output_type": "stream",
          "name": "stdout",
          "text": [
            "Longitud del vocabulario generado:\n",
            "1410\n"
          ]
        }
      ]
    },
    {
      "cell_type": "markdown",
      "source": [
        "c.\t¿Por qué debe usarse solamente el conjunto de entrenamiento para generar el vocabulario?\n",
        "\n",
        "\n",
        "### ++++++++ Inicia la sección de agregar texto: +++++++++++\n",
        "\n",
        "Se debe usar solo el conjunto de entrenamiento, ya que hacerlo con el conjunto de prueba o validación puede provocar data leakage, es decir, el modelo obtiene información adicional que no debería tener durante el entrenamiento. Además, para una evaluación realista, el conjunto de prueba debe mantenerse completamente aislado del proceso de entrenamiento, simulando condiciones reales de puesta en marcha, donde el modelo no conoce previamente los datos con los que se enfrentará.\n",
        "\n",
        "\n",
        "### ++++++++ Termina la sección de agregar texto: +++++++++++\n"
      ],
      "metadata": {
        "id": "NDa4EhTqrw15"
      }
    },
    {
      "cell_type": "code",
      "source": [
        "# d.\tCon el vocabulario generado, filtra los conjuntos de entrenamiento,\n",
        "#     validación y prueba para que todos los comentarios usen solamente las\n",
        "#     palabras de este vocabulario.\n",
        "\n",
        "#     Llamar train_x, val_x y test_x a estos tres conjuntos.\n",
        "\n",
        "\n",
        "# ******* Inlcuye a continuación todas las líneas de código y celdas que requieras: ***********\n",
        "\n",
        "\n",
        "train_x1 = []\n",
        "for ss in x_train:\n",
        "  train_x1.append([w for w in ss if w in midicc])\n",
        "\n",
        "val_x1 = []\n",
        "for ss in x_val:\n",
        "  val_x1.append([w for w in ss if w in midicc])\n",
        "\n",
        "test_x1 = []\n",
        "for ss in x_test:\n",
        "  test_x1.append([w for w in ss if w in midicc])\n",
        "\n",
        "\n",
        "# *********** Aquí termina la sección de agregar código *************\n"
      ],
      "metadata": {
        "id": "7ykjxQI3rpxx"
      },
      "execution_count": 11,
      "outputs": []
    },
    {
      "cell_type": "code",
      "source": [
        "# Vemos el resultado de los primeros comentarios del conjunto de entrenamiento:\n",
        "\n",
        "for ss in train_x1[0:5]:\n",
        "  print(ss)"
      ],
      "metadata": {
        "id": "iYF2RGuPtQTC",
        "colab": {
          "base_uri": "https://localhost:8080/"
        },
        "outputId": "8b71135a-4ae7-4855-d61b-e66d17060a86"
      },
      "execution_count": 12,
      "outputs": [
        {
          "output_type": "stream",
          "name": "stdout",
          "text": [
            "['star', 'fare', 'much', 'well', 'people', 'like', 'morgan', 'waste']\n",
            "['tonight', 'filet', 'special', 'suck']\n",
            "['pay', 'bill', 'tip', 'feel', 'server', 'terrible', 'job']\n",
            "['call', 'properly', 'cook', 'steak', 'understand']\n",
            "['however', 'keypad', 'tinny', 'sometimes', 'reach', 'wrong', 'button']\n"
          ]
        }
      ]
    },
    {
      "cell_type": "markdown",
      "source": [
        "# **Pregunta - 5:**"
      ],
      "metadata": {
        "id": "RS0Hxj25vTWh"
      }
    },
    {
      "cell_type": "markdown",
      "source": [
        "\n",
        "#### **Incluye aquí un resumen de las características y diferencias que tiene al menos los tres modelos de OpenAI indicados: \"text-embedding-3-small\", \"text-embedding-3-large\" y \"text-embedding-ada-002\".**"
      ],
      "metadata": {
        "id": "CnHHAza5_P5Z"
      }
    },
    {
      "cell_type": "markdown",
      "source": [
        "### ++++++++ Inicia la sección de agregar texto: +++++++++++\n",
        "\n",
        "OpenAI ofrece varios modelos de generación de vectores embebidos que convierten texto en representaciones numéricas útiles para tareas de análisis semántico.\n",
        "\n",
        "* **Text-embedding-3-small** destaca por su bajo costo, buena precisión y velocidad.\n",
        "\n",
        "Dimensión: 1,536 dimensiones.\n",
        "\n",
        "Tamaño del modelo: Pequeño.\n",
        "\n",
        "Precio: 62,500 páginas por dólar\n",
        "\n",
        "*  **Text-embedding-3-large** brinda mayor precisión y profundidad semántica, recomendado para tareas más exigentes.\n",
        "\n",
        "Dimensión: 3,072 dimensiones.\n",
        "\n",
        "Tamaño del modelo: Grande.\n",
        "\n",
        "Precio: 9,615 páginas por dólar\n",
        "\n",
        "*  **text-embedding-ada-00**2 fue el modelo estándar anterior, ahora superado en rendimiento.\n",
        "\n",
        "Dimensión: 1,536 dimensiones.\n",
        "\n",
        "Tamaño del modelo: Más antiguo y menos potente.\n",
        "\n",
        "Precio: 12,500 páginas por dólar\n",
        "\n",
        "Estos modelos permiten representar comentarios o documentos como vectores de alta dimensión para su uso en modelos de machine learning y clasificación (OpenAI, 2024).\n",
        "\n",
        "\n",
        "Referencia bibliográfica:\n",
        "\n",
        "OpenAI. (2024). OpenAI API documentation: Embeddings. https://platform.openai.com/docs/guides/embeddings\n",
        "\n",
        "\n",
        "\n",
        "\n",
        "### ++++++++ Termina la sección de agregar texto: +++++++++++\n"
      ],
      "metadata": {
        "id": "uTI9xSgF_Xc8"
      }
    },
    {
      "cell_type": "markdown",
      "source": [
        "# **Pregunta - 6:**\n"
      ],
      "metadata": {
        "id": "ToqRl7fT_fn2"
      }
    },
    {
      "cell_type": "markdown",
      "source": [
        "#### **Diccionario clave-valor de palabras del diccionario y vectores embebidos.**"
      ],
      "metadata": {
        "id": "BKqQk03oqoOD"
      }
    },
    {
      "cell_type": "code",
      "source": [
        "# ******* Inlcuye a continuación todas las líneas de código y celdas que requieras: ***********\n",
        "\n",
        "# SEBE CREAR EL SECRETO EN EL SIMBOLO DE LA LLAVE, INTRUDICR LA LLAVE NO SIRVE\n",
        "api_key1 = userdata.get(\"asdf\")\n",
        "\n",
        "if not api_key1:\n",
        "  raise ValueError(\"API key no encontrada en los secretos\")\n",
        "\n",
        "\n",
        "# Configura tu clave de API\n",
        "client = OpenAI(api_key = api_key1)\n",
        "\n",
        "# Diccionario para almacenar los vectores\n",
        "nuevo_diccionario = {}\n",
        "tokens_usados = 0\n",
        "\n",
        "for palabra in tqdm(midicc, desc=\"Generando vectores embebidos\"):\n",
        "    try:\n",
        "      response = client.embeddings.create(\n",
        "            model=\"text-embedding-3-small\",\n",
        "            input=palabra)\n",
        "\n",
        "      vector = response.data[0].embedding\n",
        "      nuevo_diccionario[palabra] = vector\n",
        "      tokens_usados += response.usage.total_tokens\n",
        "    except Exception as e:\n",
        "        print(f\"Error con la palabra '{palabra}': {e}\")\n",
        "\n",
        "# Guardamos el diccionario\n",
        "with open(\"diccionario_vectores.pkl\", \"wb\") as f:\n",
        "    pickle.dump(nuevo_diccionario, f)\n",
        "\n",
        "# Mensajes finales\n",
        "print(f\"\\n Diccionario guardado con {len(nuevo_diccionario)} vectores.\")\n",
        "print(f\" Tokens totales usados: {tokens_usados}\")\n",
        "\n",
        "\n",
        "# *********** Aquí termina la sección de agregar código *************\n"
      ],
      "metadata": {
        "colab": {
          "base_uri": "https://localhost:8080/"
        },
        "id": "JgENLXrK1zg9",
        "outputId": "e29902da-1f58-459d-fe54-6011768a0c6f"
      },
      "execution_count": 13,
      "outputs": [
        {
          "output_type": "stream",
          "name": "stderr",
          "text": [
            "Generando vectores embebidos: 100%|██████████| 1410/1410 [05:40<00:00,  4.15it/s]"
          ]
        },
        {
          "output_type": "stream",
          "name": "stdout",
          "text": [
            "\n",
            " Diccionario guardado con 1410 vectores.\n",
            " Tokens totales usados: 2066\n"
          ]
        },
        {
          "output_type": "stream",
          "name": "stderr",
          "text": [
            "\n"
          ]
        }
      ]
    },
    {
      "cell_type": "code",
      "source": [
        "print(f\"Costo estimado: ${tokens_usados * 0.02 / 1_000_000:.6f} USD\")"
      ],
      "metadata": {
        "colab": {
          "base_uri": "https://localhost:8080/"
        },
        "id": "nXhHhBK100rG",
        "outputId": "8bdf560d-ece3-4b40-d10b-3670eae5eb19"
      },
      "execution_count": 14,
      "outputs": [
        {
          "output_type": "stream",
          "name": "stdout",
          "text": [
            "Costo estimado: $0.000041 USD\n"
          ]
        }
      ]
    },
    {
      "cell_type": "markdown",
      "source": [
        "**Costo del modelo**\n",
        "\n",
        "El modelo \"text-embedding-3-small\" tiene un costo de $0.02 USD por cada millón de tokens. Se eligió por ser económico, lo que lo hace adecuado para tareas a gran escala que requieren generar vectores embebidos a bajo costo.\n",
        "\n",
        "Para obtener los vectores embebidos del conjunto de entrenamiento, se usaron 2365 tokens, lo que representa un costo estimado de $0.000041 USD."
      ],
      "metadata": {
        "id": "hxmW4eGb4h3w"
      }
    },
    {
      "cell_type": "markdown",
      "source": [
        "# **Pregunta - 7:**"
      ],
      "metadata": {
        "id": "W4S7q0yR0Mpi"
      }
    },
    {
      "cell_type": "markdown",
      "source": [
        "\n",
        "\n",
        "Generamos los vectores embebidos a partir de los conjuntos de entrenamiento, validación y prueba.\n",
        "\n",
        "Los llamaremos trainEmb, valEmb y testEmb, respectivamente."
      ],
      "metadata": {
        "id": "VyeOrkoaC1eq"
      }
    },
    {
      "cell_type": "code",
      "source": [
        "# ******* Inlcuye a continuación todas las líneas de código y celdas que requieras: ***********\n",
        "\n",
        "\n",
        "#Función para promediar vectores embebidos\n",
        "def promedio_vectores(enunciados):\n",
        "  enunciados_vector_promedio=[]\n",
        "  for enunciado in enunciados:\n",
        "    vectores=[]\n",
        "    for palabra in enunciado:\n",
        "      if palabra in nuevo_diccionario:\n",
        "        vectores.append(nuevo_diccionario[palabra])\n",
        "\n",
        "    if vectores:\n",
        "      vector_promedio = np.mean(vectores, axis=0)\n",
        "    else:\n",
        "      vector_promedio = np.zeros(1536)\n",
        "\n",
        "    enunciados_vector_promedio.append(vector_promedio)\n",
        "\n",
        "  return enunciados_vector_promedio # se tiene que convertir a array, las listas no tienen el atributo shape\n",
        "\n",
        "#Se establece ruta del diccionario guardado previamente\n",
        "ruta = \"/content/drive/MyDrive/Colab Notebooks/MNA/NLP/Actividad_3/diccionario_vectores.pkl\"\n",
        "\n",
        "#Se abre diccionario de vectores embebidos\n",
        "with open(ruta, \"rb\") as f:\n",
        "    nuevo_diccionario = pickle.load(f)\n",
        "\n",
        "trainEmb = np.array(promedio_vectores(train_x1))\n",
        "valEmb = np.array(promedio_vectores(val_x1))\n",
        "testEmb = np.array(promedio_vectores(test_x1))\n",
        "\n",
        "# *********** Aquí termina la sección de agregar código *************"
      ],
      "metadata": {
        "id": "wnfQpkxg0Usq"
      },
      "execution_count": 15,
      "outputs": []
    },
    {
      "cell_type": "code",
      "source": [
        "# Veamos las dimensiones de cada conjunto embebido:\n",
        "\n",
        "print(\"Train-Emb:\", trainEmb.shape)\n",
        "print(\"Val-Emb:\", valEmb.shape)\n",
        "print(\"Test-Emb:\", testEmb.shape)\n",
        "\n"
      ],
      "metadata": {
        "id": "J3BBF96D0N8Z",
        "colab": {
          "base_uri": "https://localhost:8080/"
        },
        "outputId": "6faa10bd-f59b-4f3c-b8ce-f810e5524237"
      },
      "execution_count": 16,
      "outputs": [
        {
          "output_type": "stream",
          "name": "stdout",
          "text": [
            "Train-Emb: (2100, 1536)\n",
            "Val-Emb: (450, 1536)\n",
            "Test-Emb: (450, 1536)\n"
          ]
        }
      ]
    },
    {
      "cell_type": "markdown",
      "source": [
        "# **Pregunta - 8:**\n"
      ],
      "metadata": {
        "id": "pibp1LA91CP_"
      }
    },
    {
      "cell_type": "markdown",
      "source": [
        "\n",
        "Utiliza los modelos de regresión logística y bosque aleatorio (random forest) y encuentra sus desempeños.\n",
        "\n",
        "Compara los resultados con los de la semana anterior."
      ],
      "metadata": {
        "id": "UxC9K0VnGOwG"
      }
    },
    {
      "cell_type": "code",
      "source": [
        "# REGRESIÓN LOGÍSTICA:\n",
        "\n",
        "# ******* Inlcuye a continuación todas las líneas de código y celdas que requieras: ***********\n",
        "# trainEMb,y_train/valEMb,y_val/testEMb,y_test\n",
        "\n",
        "modeloLRcount = LogisticRegression(max_iter=200, C=7, penalty = 'l2', solver= 'liblinear')\n",
        "modeloLRcount.fit(trainEmb, y_train)\n",
        "\n",
        "print('LR: Train-accuracy: %.2f%%' % (100*modeloLRcount.score(trainEmb, y_train)))\n",
        "print('LR: Val-accuracy: %.2f%%' % (100*modeloLRcount.score(valEmb, y_val)))\n",
        "\n",
        "y_pred3 = modeloLRcount.predict(trainEmb)\n",
        "\n",
        "print('\\n Reporte de sklearn de Train')\n",
        "print(classification_report(y_train, y_pred3))\n",
        "\n",
        "y_pred4 = modeloLRcount.predict(valEmb)\n",
        "\n",
        "print('\\n Reporte de sklearn de Val')\n",
        "print(classification_report(y_val, y_pred4))\n",
        "\n",
        "# *********** Aquí termina la sección de agregar código *************\n"
      ],
      "metadata": {
        "id": "ycwjD8ztGOL7",
        "colab": {
          "base_uri": "https://localhost:8080/"
        },
        "outputId": "2005a347-d9c6-4aef-a0cf-c075e85146a3"
      },
      "execution_count": 42,
      "outputs": [
        {
          "output_type": "stream",
          "name": "stdout",
          "text": [
            "LR: Train-accuracy: 83.71%\n",
            "LR: Val-accuracy: 79.78%\n",
            "\n",
            " Reporte de sklearn de Train\n",
            "              precision    recall  f1-score   support\n",
            "\n",
            "           0       0.83      0.85      0.84      1068\n",
            "           1       0.84      0.82      0.83      1032\n",
            "\n",
            "    accuracy                           0.84      2100\n",
            "   macro avg       0.84      0.84      0.84      2100\n",
            "weighted avg       0.84      0.84      0.84      2100\n",
            "\n",
            "\n",
            " Reporte de sklearn de Val\n",
            "              precision    recall  f1-score   support\n",
            "\n",
            "           0       0.80      0.78      0.79       216\n",
            "           1       0.80      0.82      0.81       234\n",
            "\n",
            "    accuracy                           0.80       450\n",
            "   macro avg       0.80      0.80      0.80       450\n",
            "weighted avg       0.80      0.80      0.80       450\n",
            "\n"
          ]
        }
      ]
    },
    {
      "cell_type": "markdown",
      "source": [
        "**Comparativo semana anterior usando Regresión Logística**\n",
        "\n",
        "Usando el modelo de regresión logistica se obtuvo un \"accuracy\" del 83.71% para el conjunto de entrenamiento y 79.78% para el conjunto de validación, lo que significa que el modelo generaliza bien y no esta sobreentrenado.\n",
        "\n",
        "En la actividad de la semana usando un modelo de regresión logística y las matrioces dispersas TF-IDF se obtuvo \"accuracy\" del 78.68%, lo que es ligeramente menor al resultado obtenido usando vector embebidos promedio de cada enunciado 79.78%%."
      ],
      "metadata": {
        "id": "m8sZOU7y2ZwR"
      }
    },
    {
      "cell_type": "code",
      "source": [
        "# BOSQUE ALEATORIO (Random Forest):\n",
        "\n",
        "# ******* Inlcuye a continuación todas las líneas de código y celdas que requieras: ***********\n",
        "\n",
        "modeloRFcount = RandomForestClassifier(n_estimators=100,  #  si sube de 100 mejora la exactitud solo en train\n",
        "                                       max_depth=2,    #Si se sube la profundidad arriba de 10 no mejora\n",
        "                                       min_samples_split=100, # el minimo para dividir son 2, arriba de 100 no mejora\n",
        "                                       min_samples_leaf=6,  # arriba de 6 cae la exactitud\n",
        "                                       max_features='log2',\n",
        "                                       random_state=42)\n",
        "modeloRFcount.fit(trainEmb, y_train)\n",
        "\n",
        "print('\\nRF: Train-accuracy: %.2f%%' % (100*modeloRFcount.score(trainEmb, y_train)))\n",
        "print('RF: Val-accuracy: %.2f%%' % (100*modeloRFcount.score(valEmb, y_val)))\n",
        "\n",
        "\n",
        "y_pred = modeloRFcount.predict(trainEmb)\n",
        "\n",
        "print('\\n Reporte de sklearn de Train')\n",
        "print(classification_report(y_train, y_pred))\n",
        "\n",
        "y_pred2 = modeloRFcount.predict(valEmb)\n",
        "\n",
        "print('\\n Reporte de sklearn de Val')\n",
        "print(classification_report(y_val, y_pred2))\n",
        "\n",
        "# *********** Aquí termina la sección de agregar código *************"
      ],
      "metadata": {
        "id": "N4n70GHW0sl3",
        "colab": {
          "base_uri": "https://localhost:8080/"
        },
        "outputId": "0c0a8090-091a-4f55-a91f-7c7d70593d36"
      },
      "execution_count": 89,
      "outputs": [
        {
          "output_type": "stream",
          "name": "stdout",
          "text": [
            "\n",
            "RF: Train-accuracy: 80.19%\n",
            "RF: Val-accuracy: 77.11%\n",
            "\n",
            " Reporte de sklearn de Train\n",
            "              precision    recall  f1-score   support\n",
            "\n",
            "           0       0.77      0.88      0.82      1068\n",
            "           1       0.85      0.72      0.78      1032\n",
            "\n",
            "    accuracy                           0.80      2100\n",
            "   macro avg       0.81      0.80      0.80      2100\n",
            "weighted avg       0.81      0.80      0.80      2100\n",
            "\n",
            "\n",
            " Reporte de sklearn de Val\n",
            "              precision    recall  f1-score   support\n",
            "\n",
            "           0       0.71      0.87      0.78       216\n",
            "           1       0.85      0.68      0.76       234\n",
            "\n",
            "    accuracy                           0.77       450\n",
            "   macro avg       0.78      0.77      0.77       450\n",
            "weighted avg       0.79      0.77      0.77       450\n",
            "\n"
          ]
        }
      ]
    },
    {
      "cell_type": "markdown",
      "source": [
        "**Comparativo semana anterior usando Random Forest**\n",
        "\n",
        "Usando el modelo de bosque aleatorio se obtuvo un \"accuracy\" del 80.19% para el conjunto de entrenamiento y 77.11% para el conjunto de validación, lo que significa que el modelo generaliza bien, no esta sobreentrenado, pero se tiene un resultado ligeramente inferior al obtenido con el modelo de regresión lineal.\n",
        "\n",
        "Este resultado, 77.11% es ligeramente inferior al de la semana pasada usando Random Forest y las matrioces dispersas TF-IDF en el que se obtuvo un \"accuracy\" del 78.56%."
      ],
      "metadata": {
        "id": "lEpt7ER14LOZ"
      }
    },
    {
      "cell_type": "markdown",
      "source": [
        "# **Pregunta - 9:**"
      ],
      "metadata": {
        "id": "WDIiSHvg0_hm"
      }
    },
    {
      "cell_type": "markdown",
      "source": [
        "\n",
        "\n",
        "Reporte del mejor modelo con el conjunto de Prueba (Test).\n"
      ],
      "metadata": {
        "id": "dJJtALGZHrGk"
      }
    },
    {
      "cell_type": "code",
      "source": [
        "# ******* Inlcuye a continuación todas las líneas de código y celdas que requieras: ***********\n",
        "\n",
        "\n",
        "print('LR: Test-accuracy: %.2f%%' % (100*modeloLRcount.score(testEmb, y_test)))\n",
        "\n",
        "y_pred5 = modeloLRcount.predict(testEmb)\n",
        "\n",
        "print('\\n Reporte de sklearn de Val')\n",
        "print(classification_report(y_test, y_pred5))\n",
        "\n",
        "cm = confusion_matrix(y_test, y_pred5, labels=[0, 1])\n",
        "\n",
        "# Visualizarla con etiquetas\n",
        "disp = ConfusionMatrixDisplay(confusion_matrix=cm, display_labels=['Negativa', 'Positiva'])\n",
        "disp.plot(cmap='Blues')\n",
        "plt.title('Matriz de Confusión del Modelo')\n",
        "plt.xlabel('Etiqueta Predicha')\n",
        "plt.ylabel('Etiqueta Real')\n",
        "plt.show()\n",
        "\n",
        "# *********** Aquí termina la sección de agregar código *************"
      ],
      "metadata": {
        "id": "ETv4VLjP1GYt",
        "colab": {
          "base_uri": "https://localhost:8080/",
          "height": 680
        },
        "outputId": "fee151bb-6d78-4d11-a688-ddd96a654884"
      },
      "execution_count": 91,
      "outputs": [
        {
          "output_type": "stream",
          "name": "stdout",
          "text": [
            "LR: Test-accuracy: 80.22%\n",
            "\n",
            " Reporte de sklearn de Val\n",
            "              precision    recall  f1-score   support\n",
            "\n",
            "           0       0.79      0.80      0.79       216\n",
            "           1       0.81      0.81      0.81       234\n",
            "\n",
            "    accuracy                           0.80       450\n",
            "   macro avg       0.80      0.80      0.80       450\n",
            "weighted avg       0.80      0.80      0.80       450\n",
            "\n"
          ]
        },
        {
          "output_type": "display_data",
          "data": {
            "text/plain": [
              "<Figure size 640x480 with 2 Axes>"
            ],
            "image/png": "[encoded data removed]"
          },
          "metadata": {}
        }
      ]
    },
    {
      "cell_type": "markdown",
      "source": [
        "**Mejor modelo**\n",
        "\n",
        "Se utilizó un modelo de regresión logística que alcanzó un accuracy del 80.22% en el conjunto de prueba, lo cual indica buen rendimiento y adecuada generalización sin signos de sobreajuste. La matriz de confusión mostró 172 verdaderos negativos y 189 verdaderos positivos, con 44 falsos positivos y 45 falsos negativos, lo que sugiere errores en ambas clases. El reporte de scikit-learn reflejó métricas equilibradas: precisión, recall y F1-score cercanas a 0.80 para ambas clases. En general, el modelo es preciso y balanceado, aunque todavía hay área de oportunidad para reducir los errores de clasificación.\n"
      ],
      "metadata": {
        "id": "BpqtnDcl9Y2_"
      }
    },
    {
      "cell_type": "markdown",
      "source": [
        "# **Pregunta - 10:**"
      ],
      "metadata": {
        "id": "NbhBUBKJp1MB"
      }
    },
    {
      "cell_type": "code",
      "source": [
        "# Se asegura que X sean strings\n",
        "enunciados = X.astype(str)\n",
        "\n",
        "# Diccionario para almacenar los vectores de los enunciados\n",
        "vectores_enunciados = {}\n",
        "tokens_usados = 0\n",
        "\n",
        "for i, texto in tqdm(enumerate(enunciados), total=len(enunciados), desc=\"Generando embeddings de enunciados\"):\n",
        "    try:\n",
        "        response = client.embeddings.create(\n",
        "            model=\"text-embedding-3-small\",\n",
        "            input=texto\n",
        "        )\n",
        "        vector = response.data[0].embedding\n",
        "        vectores_enunciados[i] = vector\n",
        "        tokens_usados += response.usage.total_tokens\n",
        "    except Exception as e:\n",
        "        print(f\"Error con el enunciado {i}: {e}\")\n",
        "        vectores_enunciados[i] = None  # para mantener el orden\n",
        "\n",
        "# Convertir a array numpy, ignorando los que fallaron\n",
        "embedding_array = np.array([vectores_enunciados[i] for i in range(len(enunciados)) if vectores_enunciados[i] is not None])\n",
        "\n",
        "# Se guarda el diccionario para no tener que volverlo a cargar\n",
        "with open(\"embeddings_enunciados.pkl\", \"wb\") as f:\n",
        "    pickle.dump(embedding_array, f)\n",
        "\n",
        "# Mensajes finales\n",
        "print(f\"\\n Embeddings guardados para {len(embedding_array)} enunciados.\")\n",
        "print(f\" Tokens totales usados: {tokens_usados}\")"
      ],
      "metadata": {
        "colab": {
          "base_uri": "https://localhost:8080/"
        },
        "id": "5ytV57sRW7Y8",
        "outputId": "fabd7757-86ab-4ea9-e59a-22f7518bc64a"
      },
      "execution_count": 22,
      "outputs": [
        {
          "output_type": "stream",
          "name": "stderr",
          "text": [
            "Generando embeddings de enunciados: 100%|██████████| 3000/3000 [13:07<00:00,  3.81it/s]\n"
          ]
        },
        {
          "output_type": "stream",
          "name": "stdout",
          "text": [
            "\n",
            " Embeddings guardados para 3000 enunciados.\n",
            " Tokens totales usados: 43804\n"
          ]
        }
      ]
    },
    {
      "cell_type": "code",
      "source": [
        "print(f\"Costo estimado: ${tokens_usados * 0.02 / 1_000_000:.6f} USD\")"
      ],
      "metadata": {
        "colab": {
          "base_uri": "https://localhost:8080/"
        },
        "id": "9FuqcCUjEiKt",
        "outputId": "84f0d180-98c3-4d9c-d0bc-ae278b625751"
      },
      "execution_count": 23,
      "outputs": [
        {
          "output_type": "stream",
          "name": "stdout",
          "text": [
            "Costo estimado: $0.000876 USD\n"
          ]
        }
      ]
    },
    {
      "cell_type": "code",
      "source": [
        "#Se establece ruta del diccionario guardado previamente\n",
        "ruta = \"/content/drive/MyDrive/Colab Notebooks/MNA/NLP/Actividad_3/embeddings_enunciados.pkl\"\n",
        "\n",
        "#Se abre diccionario de vectores embebidos de enunciados\n",
        "with open(ruta, \"rb\") as f:\n",
        "    embedding_array = pickle.load(f)\n",
        "\n"
      ],
      "metadata": {
        "id": "NsJ4wxZcZ5dY"
      },
      "execution_count": 24,
      "outputs": []
    },
    {
      "cell_type": "code",
      "source": [
        "# Primera división: entrenamiento (70%) y validación+test (30%)\n",
        "X_train_embed, X_val_and_test_embed, y_train2, y_val_and_test2 = train_test_split(\n",
        "    embedding_array, Y, train_size=0.70, shuffle=True, random_state=1\n",
        ")\n",
        "\n",
        "# Segunda división: validación (15%) y test (15%)\n",
        "X_val_embed, X_test_embed, y_val2, y_test2 = train_test_split(\n",
        "    X_val_and_test_embed, y_val_and_test2, test_size=0.50, shuffle=True, random_state=17\n",
        ")\n",
        "\n",
        "# Verificación\n",
        "print(\"Embeddings Train:\", X_train_embed.shape)\n",
        "print(\"Embeddings Val:  \", X_val_embed.shape)\n",
        "print(\"Embeddings Test: \", X_test_embed.shape)"
      ],
      "metadata": {
        "colab": {
          "base_uri": "https://localhost:8080/"
        },
        "id": "npa8ir7VZ8GZ",
        "outputId": "0642ff06-e617-43c7-8266-e237924060fb"
      },
      "execution_count": 25,
      "outputs": [
        {
          "output_type": "stream",
          "name": "stdout",
          "text": [
            "Embeddings Train: (2100, 1536)\n",
            "Embeddings Val:   (450, 1536)\n",
            "Embeddings Test:  (450, 1536)\n"
          ]
        }
      ]
    },
    {
      "cell_type": "code",
      "source": [
        "# REGRESIÓN LOGÍSTICA:\n",
        "\n",
        "# ******* Inlcuye a continuación todas las líneas de código y celdas que requieras: ***********\n",
        "# trainEMb,y_train/valEMb,y_val/testEMb,y_test\n",
        "\n",
        "modeloLRcount = LogisticRegression(max_iter=200, C=6, penalty = 'l2', solver= 'liblinear')\n",
        "modeloLRcount.fit(X_train_embed, y_train)\n",
        "\n",
        "print('LR: Train-accuracy: %.2f%%' % (100*modeloLRcount.score(X_train_embed, y_train)))\n",
        "print('LR: Val-accuracy: %.2f%%' % (100*modeloLRcount.score(X_val_embed, y_val)))\n",
        "\n",
        "y_pred3 = modeloLRcount.predict(X_train_embed)\n",
        "\n",
        "print('\\n Reporte de sklearn de Train')\n",
        "print(classification_report(y_train, y_pred3))\n",
        "\n",
        "y_pred4 = modeloLRcount.predict(X_val_embed)\n",
        "\n",
        "print('\\n Reporte de sklearn de Val')\n",
        "print(classification_report(y_val, y_pred4))\n",
        "\n",
        "# *********** Aquí termina la sección de agregar código *************\n"
      ],
      "metadata": {
        "colab": {
          "base_uri": "https://localhost:8080/"
        },
        "id": "AhJNuWL8bZJ7",
        "outputId": "9be6c1c5-c4ed-41da-aec3-af6bb76fb40f"
      },
      "execution_count": 26,
      "outputs": [
        {
          "output_type": "stream",
          "name": "stdout",
          "text": [
            "LR: Train-accuracy: 99.10%\n",
            "LR: Val-accuracy: 97.56%\n",
            "\n",
            " Reporte de sklearn de Train\n",
            "              precision    recall  f1-score   support\n",
            "\n",
            "           0       0.99      0.99      0.99      1068\n",
            "           1       0.99      0.99      0.99      1032\n",
            "\n",
            "    accuracy                           0.99      2100\n",
            "   macro avg       0.99      0.99      0.99      2100\n",
            "weighted avg       0.99      0.99      0.99      2100\n",
            "\n",
            "\n",
            " Reporte de sklearn de Val\n",
            "              precision    recall  f1-score   support\n",
            "\n",
            "           0       0.98      0.97      0.97       216\n",
            "           1       0.97      0.98      0.98       234\n",
            "\n",
            "    accuracy                           0.98       450\n",
            "   macro avg       0.98      0.98      0.98       450\n",
            "weighted avg       0.98      0.98      0.98       450\n",
            "\n"
          ]
        }
      ]
    },
    {
      "cell_type": "code",
      "source": [
        "# BOSQUE ALEATORIO (Random Forest):\n",
        "\n",
        "# ******* Inlcuye a continuación todas las líneas de código y celdas que requieras: ***********\n",
        "\n",
        "modeloRFcount = RandomForestClassifier(n_estimators=100,  #  si sube de 100 mejora la exactitud solo en train\n",
        "                                       max_depth=3,    #Si se sube la profundidad arriba de 10 no mejora\n",
        "                                       min_samples_split=100, # el minimo para dividir son 2, arriba de 100 no mejora\n",
        "                                       min_samples_leaf=6,  # arriba de 6 cae la exactitud\n",
        "                                       max_features='log2',\n",
        "                                       random_state=42)\n",
        "modeloRFcount.fit(X_train_embed, y_train)\n",
        "\n",
        "print('\\nRF: Train-accuracy: %.2f%%' % (100*modeloRFcount.score(X_train_embed, y_train)))\n",
        "print('RF: Val-accuracy: %.2f%%' % (100*modeloRFcount.score(X_val_embed, y_val)))\n",
        "\n",
        "\n",
        "y_pred = modeloRFcount.predict(X_train_embed)\n",
        "\n",
        "print('\\n Reporte de sklearn de Train')\n",
        "print(classification_report(y_train, y_pred))\n",
        "\n",
        "y_pred2 = modeloRFcount.predict(X_val_embed)\n",
        "\n",
        "print('\\n Reporte de sklearn de Val')\n",
        "print(classification_report(y_val, y_pred2))\n",
        "\n",
        "# *********** Aquí termina la sección de agregar código *************\n"
      ],
      "metadata": {
        "colab": {
          "base_uri": "https://localhost:8080/"
        },
        "id": "QuZjtZA1dAfq",
        "outputId": "7f16e45b-c82a-440e-9950-b7c4bb30c319"
      },
      "execution_count": 27,
      "outputs": [
        {
          "output_type": "stream",
          "name": "stdout",
          "text": [
            "\n",
            "RF: Train-accuracy: 98.10%\n",
            "RF: Val-accuracy: 96.22%\n",
            "\n",
            " Reporte de sklearn de Train\n",
            "              precision    recall  f1-score   support\n",
            "\n",
            "           0       0.99      0.97      0.98      1068\n",
            "           1       0.97      0.99      0.98      1032\n",
            "\n",
            "    accuracy                           0.98      2100\n",
            "   macro avg       0.98      0.98      0.98      2100\n",
            "weighted avg       0.98      0.98      0.98      2100\n",
            "\n",
            "\n",
            " Reporte de sklearn de Val\n",
            "              precision    recall  f1-score   support\n",
            "\n",
            "           0       0.96      0.96      0.96       216\n",
            "           1       0.97      0.96      0.96       234\n",
            "\n",
            "    accuracy                           0.96       450\n",
            "   macro avg       0.96      0.96      0.96       450\n",
            "weighted avg       0.96      0.96      0.96       450\n",
            "\n"
          ]
        }
      ]
    },
    {
      "cell_type": "markdown",
      "source": [
        "**Mejor modelo**\n",
        "\n",
        "A continuación se muestra el resultado de \"accuracy\" con el conjunto de prueba usando el mejor modelo encontrado, el cual fue el de regresión logística."
      ],
      "metadata": {
        "id": "6pjAjizWCvij"
      }
    },
    {
      "cell_type": "code",
      "source": [
        "# ******* Inlcuye a continuación todas las líneas de código y celdas que requieras: ***********\n",
        "\n",
        "\n",
        "print('LR: Test-accuracy: %.2f%%' % (100*modeloLRcount.score(X_test_embed, y_test)))\n",
        "\n",
        "y_pred5 = modeloLRcount.predict(X_test_embed)\n",
        "\n",
        "print('\\n Reporte de sklearn de Val')\n",
        "print(classification_report(y_test, y_pred5))\n",
        "\n",
        "cm = confusion_matrix(y_test, y_pred5, labels=[0, 1])\n",
        "\n",
        "# Visualizarla con etiquetas\n",
        "disp = ConfusionMatrixDisplay(confusion_matrix=cm, display_labels=['Negativa', 'Positiva'])\n",
        "disp.plot(cmap='Blues')\n",
        "plt.title('Matriz de Confusión del Modelo')\n",
        "plt.xlabel('Etiqueta Predicha')\n",
        "plt.ylabel('Etiqueta Real')\n",
        "plt.show()\n",
        "\n",
        "# *********** Aquí termina la sección de agregar código *************"
      ],
      "metadata": {
        "colab": {
          "base_uri": "https://localhost:8080/",
          "height": 680
        },
        "id": "excvvFlae86D",
        "outputId": "1c39b4bf-9811-419d-c129-31ec3a2bcf48"
      },
      "execution_count": 28,
      "outputs": [
        {
          "output_type": "stream",
          "name": "stdout",
          "text": [
            "LR: Test-accuracy: 97.78%\n",
            "\n",
            " Reporte de sklearn de Val\n",
            "              precision    recall  f1-score   support\n",
            "\n",
            "           0       0.98      0.98      0.98       216\n",
            "           1       0.98      0.98      0.98       234\n",
            "\n",
            "    accuracy                           0.98       450\n",
            "   macro avg       0.98      0.98      0.98       450\n",
            "weighted avg       0.98      0.98      0.98       450\n",
            "\n"
          ]
        },
        {
          "output_type": "display_data",
          "data": {
            "text/plain": [
              "<Figure size 640x480 with 2 Axes>"
            ],
            "image/png": "[encoded data removed]"
          },
          "metadata": {}
        }
      ]
    },
    {
      "cell_type": "markdown",
      "source": [
        "Se observa que este modelo clasifica mucho mejor los enunciados, ya que la mayoría de las predicciones fueron correctas y solo existen 5 falsos positivos y 5 falsos negativos, por lo que supera con creces el modelo anterior que usó vectores embebidos de cada token en vez de vectores embebidos por enunciado"
      ],
      "metadata": {
        "id": "H-G4ng9LFmwG"
      }
    },
    {
      "cell_type": "markdown",
      "source": [
        "# **Pregunta - 11:**"
      ],
      "metadata": {
        "id": "YCkh2WfN1MC1"
      }
    },
    {
      "cell_type": "markdown",
      "source": [
        "\n",
        "\n",
        "Incluye tus comentarios finales de la actividad.\n",
        "\n",
        "### ++++++++ Inicia la sección de agregar texto: +++++++++++\n",
        "\n",
        "En esta actividad se entrenaron modelos utilizando regresión logística y bosque aleatorio, empleando en la primera parte vectores embebidos promedios de los tokens de cada enunciado, y en la segunda parte, vectores embebidos de comentarios completos. Estos vectores se obtuvieron mediante la API de OpenAI, usando el modelo text-embedding-3-small, el cual es económico, rápido y eficiente para procesar grandes volúmenes de datos.\n",
        "\n",
        "El mejor modelo con vectores embebidos por tokens fue la regresión logística, con un accuracy del 80.22%, superando el resultado obtenido anteriormente con regresión logística y matrices dispersas TF-IDF (78.68%).\n",
        "\n",
        "Al utilizar vectores embebidos a nivel de enunciado, se alcanzó un accuracy del 97.78%, superando ampliamente el resultado con vectores promedio de tokens (80.22%). Esta mejora se debe a que el procesamiento a nivel de comentario completo captura mejor el contexto semántico que el enfoque palabra por palabra.\n",
        "\n",
        "### ++++++++ Termina la sección de agregar texto: +++++++++++"
      ],
      "metadata": {
        "id": "4ySFuDQtVuK5"
      }
    },
    {
      "cell_type": "markdown",
      "source": [
        "# **Fin de la Actividad de Vectores Embebidos - OpenAI**"
      ],
      "metadata": {
        "id": "bgKHmQTbWJT1"
      }
    }
  ]
}